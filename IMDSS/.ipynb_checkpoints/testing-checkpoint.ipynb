{
 "cells": [
  {
   "cell_type": "code",
   "execution_count": 14,
   "metadata": {},
   "outputs": [
    {
     "name": "stdout",
     "output_type": "stream",
     "text": [
      "0     2019-10-10\n",
      "1     2019-10-10\n",
      "2     2019-10-10\n",
      "3     2019-10-10\n",
      "4     2019-10-10\n",
      "         ...    \n",
      "613   2019-09-25\n",
      "614   2019-09-25\n",
      "615   2019-09-25\n",
      "616   2019-09-25\n",
      "617   2019-09-25\n",
      "Name: create_date, Length: 618, dtype: datetime64[ns]\n",
      "item                 BH  BT(E)  BT(TA)    BW  DBP1    HR    RR   SBP1\n",
      "time                                                                 \n",
      "20190925\\n161300    NaN   36.0     NaN   NaN  59.0  80.0  20.0  107.0\n",
      "20190925\\n162000    NaN    NaN     NaN   NaN  58.0  72.0  20.0  117.0\n",
      "20190925\\n164340  165.0    NaN    37.0  52.0  77.0  74.0  24.0  103.0\n",
      "20190925\\n174239    NaN    NaN     NaN   NaN  54.0  67.0  14.0  102.0\n",
      "20190925\\n190039    NaN    NaN    37.0   NaN  52.0  72.0  15.0  100.0\n",
      "MySQL connection is closed\n"
     ]
    }
   ],
   "source": [
    "import mysql.connector\n",
    "from mysql.connector import Error\n",
    "import IMDSS.config as cfg\n",
    "import pandas as pd\n",
    "import datetime\n",
    "\n",
    "try:\n",
    "    connection = mysql.connector.connect(host=cfg.db['host'],\n",
    "                                         database=cfg.db['name'],\n",
    "                                         user=cfg.db['user'],\n",
    "                                         password=cfg.db['password'])\n",
    "    cursor = connection.cursor()\n",
    "#     cur.execute('select * from tpr_data')\n",
    "    df = pd.read_sql('select * from tpr_data', connection)\n",
    "    \n",
    "\n",
    "    df['create_date'] = df['create_date'].astype(int).add(19110000).astype(str)\n",
    "    \n",
    "    df['time'] = df[['create_date', 'create_time']].agg(\"\\n\".join, axis=1)\n",
    "    \n",
    "#     dates = pd.to_datetime(pd.Series(df['time']), format = '%Y%m%d')\n",
    "#     dates.apply(lambda x: x.strftime('%Y-%m-%d'))\n",
    "\n",
    "    df['time'] = df['time']\n",
    "    \n",
    "    print(dates)\n",
    "    \n",
    "    df['item'] = df['item'].str.strip()\n",
    "\n",
    "    \n",
    "    newdf = pd.pivot_table(df, index='time', columns='item', values='value')\n",
    "    \n",
    "    print(newdf.head())\n",
    "    \n",
    "    newdf.update(newdf[['BT(TA)', 'BW', 'DBP1', 'HR', 'RR', 'SBP1']].fillna(method='bfill'))\n",
    "    \n",
    "    newdf.to_csv('newdf.csv')\n",
    "    \n",
    "\n",
    "except Error as e:\n",
    "    print(\"Error while connecting to MySQL\", e)\n",
    "finally:\n",
    "    if (connection.is_connected()):\n",
    "        cursor.close()\n",
    "        connection.close()\n",
    "        print(\"MySQL connection is closed\")"
   ]
  },
  {
   "cell_type": "code",
   "execution_count": null,
   "metadata": {},
   "outputs": [],
   "source": []
  }
 ],
 "metadata": {
  "kernelspec": {
   "display_name": "imdss",
   "language": "python",
   "name": "imdss"
  },
  "language_info": {
   "codemirror_mode": {
    "name": "ipython",
    "version": 3
   },
   "file_extension": ".py",
   "mimetype": "text/x-python",
   "name": "python",
   "nbconvert_exporter": "python",
   "pygments_lexer": "ipython3",
   "version": "3.7.7"
  }
 },
 "nbformat": 4,
 "nbformat_minor": 4
}
